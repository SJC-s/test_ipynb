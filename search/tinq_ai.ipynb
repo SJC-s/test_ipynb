{
 "cells": [
  {
   "cell_type": "code",
   "execution_count": 1,
   "metadata": {},
   "outputs": [],
   "source": [
    "import os\n",
    "from dotenv import load_dotenv\n",
    "\n",
    "load_dotenv()\n",
    "\n",
    "tinq_api_key = os.getenv(\"TINQ_API_KEY\")"
   ]
  },
  {
   "cell_type": "code",
   "execution_count": 2,
   "metadata": {},
   "outputs": [
    {
     "name": "stdout",
     "output_type": "stream",
     "text": [
      "{\"results\":null,\"errors\":[],\"message\":\"success\",\"usage\":{\"requests_left\":-1,\"credits_left\":50}}\n"
     ]
    }
   ],
   "source": [
    "import http.client\n",
    "\n",
    "conn = http.client.HTTPSConnection(\"tinq.ai\")\n",
    "\n",
    "payload = \"{\\\"search\\\":\\\"best pizza in Atlanta, GA\\\"}\"\n",
    "\n",
    "headers = {\n",
    "    'Accept': \"application/json\",\n",
    "    'Content-Type': \"application/json\",\n",
    "    'Authorization': f\"Bearer {tinq_api_key}\"\n",
    "    }\n",
    "\n",
    "conn.request(\"POST\", \"/api/v2/scraper/google\", payload, headers)\n",
    "\n",
    "res = conn.getresponse()\n",
    "data = res.read()\n",
    "\n",
    "print(data.decode(\"utf-8\"))"
   ]
  }
 ],
 "metadata": {
  "kernelspec": {
   "display_name": "chatty2",
   "language": "python",
   "name": "python3"
  },
  "language_info": {
   "codemirror_mode": {
    "name": "ipython",
    "version": 3
   },
   "file_extension": ".py",
   "mimetype": "text/x-python",
   "name": "python",
   "nbconvert_exporter": "python",
   "pygments_lexer": "ipython3",
   "version": "3.11.12"
  }
 },
 "nbformat": 4,
 "nbformat_minor": 2
}
