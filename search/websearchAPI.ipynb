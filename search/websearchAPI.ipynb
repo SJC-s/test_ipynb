{
 "cells": [
  {
   "cell_type": "markdown",
   "metadata": {},
   "source": [
    "## WebSearchAPI"
   ]
  },
  {
   "cell_type": "code",
   "execution_count": 2,
   "metadata": {},
   "outputs": [],
   "source": [
    "import os\n",
    "from dotenv import load_dotenv\n",
    "\n",
    "load_dotenv()\n",
    "\n",
    "websearch_api_key = os.getenv(\"WEBSEARCH_API_KEY\")"
   ]
  },
  {
   "cell_type": "markdown",
   "metadata": {},
   "source": [
    "## Request"
   ]
  },
  {
   "cell_type": "code",
   "execution_count": 8,
   "metadata": {},
   "outputs": [
    {
     "name": "stdout",
     "output_type": "stream",
     "text": [
      "{\n",
      "  \"searchParameters\": {\n",
      "    \"query\": \"ai 프로\",\n",
      "    \"maxResults\": 5,\n",
      "    \"includeContent\": false,\n",
      "    \"country\": \"jp\",\n",
      "    \"language\": \"en\"\n",
      "  },\n",
      "  \"organic\": [\n",
      "    {\n",
      "      \"title\": \"AIPro - Leading DeepLearning Solutions\",\n",
      "      \"url\": \"https://www.aipro.ai/\",\n",
      "      \"description\": \"인공지능 솔루션을 필요로 하는 기업과의 동반성장을 위해 성균관대 컴퓨터교육과 현직 교수가 설립한 인공지능,딥러닝 분야 벤처기업입니다.\",\n",
      "      \"position\": 1\n",
      "    },\n",
      "    {\n",
      "      \"title\": \"주식회사 에이아이프로\",\n",
      "      \"url\": \"https://ai-pro.co.kr/\",\n",
      "      \"description\": \"AI 플랫폼 구축 전문기업. 주식회사 에이아이프로는 고객사 개발환경에 적합한 맞춤 컨설팅과 머신러닝 모델링을 자동화하고 사용자 편의성을 제공합니다.\",\n",
      "      \"position\": 2\n",
      "    },\n",
      "    {\n",
      "      \"title\": \"Google AI Pro 혜택 받기 - Android - Google One 고객센터\",\n",
      "      \"url\": \"https://support.google.com/googleone/answer/14534406?hl=ko&co=GENIE.Platform%3DAndroid\",\n",
      "      \"description\": \"Google AI Pro 멤버십을 15개월 동안 무료로 이용할 수 있습니다. 2025년 8월 31일 이후에 체험판을 계속 이용하려면 요청 시 학생 신분을 재인증해야 합니다.\",\n",
      "      \"position\": 3\n",
      "    },\n",
      "    {\n",
      "      \"title\": \"AI 프로 chatty.kr\",\n",
      "      \"url\": \"https://chatty.kr/\",\n",
      "      \"description\": \"채티는 텍스트, 파일, 웹을 학습하여 나만을 위한 맞춤형 AI 대화를 제공합니다. 맞춤형 AI 챗봇 서비스로 고객 맞춤 대화를 경험해 보세요.\",\n",
      "      \"position\": 4\n",
      "    },\n",
      "    {\n",
      "      \"title\": \"Learn & Explore the Power of AI at AI-PRO.org | AI Resources & Tools\",\n",
      "      \"url\": \"https://ai-pro.org/\",\n",
      "      \"description\": \"Join AI-PRO & discover the exciting world of AI. Our collection of AI apps and resources help you understand the trends, technologies, and knowledge needed ...\",\n",
      "      \"position\": 5\n",
      "    }\n",
      "  ]\n",
      "}\n"
     ]
    }
   ],
   "source": [
    "# Python example using the requests library\n",
    "import requests\n",
    "import json\n",
    "\n",
    "url = \"https://api.websearchapi.ai/ai-search\"\n",
    "headers = {\n",
    "    \"Content-Type\": \"application/json; charset=UTF-8\",\n",
    "    \"Authorization\": f\"Bearer {websearch_api_key}\"\n",
    "}\n",
    "\n",
    "payload = {\n",
    "    \"query\": \"ai 프로\",\n",
    "    \"maxResults\": 5,\n",
    "    \"includeContent\": False,\n",
    "    \"country\": \"jp\",\n",
    "    \"language\": \"en\"\n",
    "}\n",
    "\n",
    "response = requests.post(url, headers=headers, json=payload)\n",
    "\n",
    "# Check if the request was successful\n",
    "if response.status_code == 200:\n",
    "    response.encoding = 'UTF-8'\n",
    "    results = response.json()\n",
    "    print(json.dumps(results, indent=2, ensure_ascii=False))\n",
    "else:\n",
    "    print(f\"Error: {response.status_code}\")\n",
    "    print(response.text)"
   ]
  },
  {
   "cell_type": "code",
   "execution_count": null,
   "metadata": {},
   "outputs": [],
   "source": []
  }
 ],
 "metadata": {
  "kernelspec": {
   "display_name": "chatty2",
   "language": "python",
   "name": "python3"
  },
  "language_info": {
   "codemirror_mode": {
    "name": "ipython",
    "version": 3
   },
   "file_extension": ".py",
   "mimetype": "text/x-python",
   "name": "python",
   "nbconvert_exporter": "python",
   "pygments_lexer": "ipython3",
   "version": "3.11.12"
  }
 },
 "nbformat": 4,
 "nbformat_minor": 2
}
