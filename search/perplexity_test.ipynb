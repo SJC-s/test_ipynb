{
 "cells": [
  {
   "cell_type": "code",
   "execution_count": 1,
   "metadata": {},
   "outputs": [],
   "source": [
    "import os\n",
    "from dotenv import load_dotenv\n",
    "from langchain_core.prompts import ChatPromptTemplate\n",
    "from langchain_perplexity import ChatPerplexity\n",
    "\n",
    "load_dotenv()\n",
    "\n",
    "pplx_api_key = os.getenv(\"PPLX_API_KEY\")\n",
    "chat = ChatPerplexity(temperature=0, pplx_api_key=pplx_api_key, model=\"sonar\")"
   ]
  },
  {
   "cell_type": "code",
   "execution_count": 3,
   "metadata": {},
   "outputs": [
    {
     "name": "stdout",
     "output_type": "stream",
     "text": [
      "Perplexity API를 사용하여 검색하는 방법은 아래와 같이 요약할 수 있습니다.\n",
      "\n",
      "## Perplexity API로 검색하는 기본 방법\n",
      "\n",
      "**1. API 키 발급 및 설정**\n",
      "- **계정 생성 및 API 키 발급**: Perplexity API 공식 페이지에서 계정을 생성하고, API 크레딧을 충전한 뒤 API 키를 발급받으세요[1].\n",
      "- **API 키 관리**: 발급받은 API 키를 안전하게 보관하고, 모든 API 호출 시 이 키를 사용해야 합니다[1].\n",
      "\n",
      "**2. API 호출 준비**\n",
      "- **요청 엔드포인트**: Perplexity API가 제공하는 검색 엔드포인트(예: `perplexity_search_web`)에 HTTP 요청을 보냅니다[2].\n",
      "- **필수 및 선택 파라미터**\n",
      "  - **query**: 검색할 키워드(문장)를 입력합니다. 예: `{ \"query\": \"Perplexity API 사용법\" }`[2].\n",
      "  - **recency**: 결과를 특정 기간(최근 1일, 1주, 1개월 등)으로 제한할 수 있습니다. 예: `{ \"recency\": \"week\" }`[2].\n",
      "\n",
      "**3. API 호출 예시**\n",
      "\n",
      "아래는 Python을 사용한 예시 코드입니다.\n",
      "\n",
      "```python\n",
      "import requests\n",
      "\n",
      "api_key = \"YOUR_API_KEY\"\n",
      "url = \"https://api.perplexity.ai/perplexity_search_web\"\n",
      "\n",
      "headers = {\n",
      "    \"Authorization\": f\"Bearer {api_key}\",\n",
      "    \"Content-Type\": \"application/json\"\n",
      "}\n",
      "data = {\n",
      "    \"query\": \"Perplexity API 사용법\",\n",
      "    \"recency\": \"week\"\n",
      "}\n",
      "\n",
      "response = requests.post(url, headers=headers, json=data)\n",
      "print(response.json())\n",
      "```\n",
      "\n",
      "**4. 응답 처리**\n",
      "- **결과 확인**: API 응답에서 검색 결과(문서, 요약 등)를 확인할 수 있습니다[2].\n",
      "- **고급 기능 활용**\n",
      "  - **스트리밍 응답**: 대량의 데이터나 실시간 정보를 받을 때는 스트리밍 기능을 활용하세요[1].\n",
      "  - **다양한 AI 모델 선택**: GPT, Claude, Sonar 등 원하는 모델을 선택해 사용할 수 있습니다[1].\n",
      "\n",
      "## 활용 팁\n",
      "\n",
      "- **최신 정보 필터링**: `recency` 옵션을 사용해 결과를 최신순으로 제한할 수 있습니다[2].\n",
      "- **문서 분석 및 요약**: PDF 등 파일 업로드 기능을 활용해 문서 내용을 분석 및 요약할 수 있습니다[1].\n",
      "- **자연어 질의**: 자연어로 질문을 입력해도 AI가 이해해 답변합니다[3].\n",
      "\n",
      "이와 같은 절차로 Perplexity API를 활용해 다양한 정보 검색 및 분석 작업을 효율적으로 수행할 수 있습니다.\n"
     ]
    }
   ],
   "source": [
    "from openai import OpenAI\n",
    "client = OpenAI(api_key=pplx_api_key, base_url=\"https://api.perplexity.ai\")\n",
    "response = client.chat.completions.create(\n",
    "  model=\"sonar\",\n",
    "  messages=[\n",
    "    {\"role\": \"user\", \"content\": \"Perplexity API로 검색하는 방법을 알려줘.\"}\n",
    "  ]\n",
    ")\n",
    "print(response.choices[0].message.content)\n"
   ]
  }
 ],
 "metadata": {
  "kernelspec": {
   "display_name": "chatty2",
   "language": "python",
   "name": "python3"
  },
  "language_info": {
   "codemirror_mode": {
    "name": "ipython",
    "version": 3
   },
   "file_extension": ".py",
   "mimetype": "text/x-python",
   "name": "python",
   "nbconvert_exporter": "python",
   "pygments_lexer": "ipython3",
   "version": "3.11.12"
  }
 },
 "nbformat": 4,
 "nbformat_minor": 2
}
