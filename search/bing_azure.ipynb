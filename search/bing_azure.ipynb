{
 "cells": [
  {
   "cell_type": "code",
   "execution_count": 1,
   "metadata": {},
   "outputs": [],
   "source": [
    "import os\n",
    "from dotenv import load_dotenv\n",
    "import json\n",
    "\n",
    "load_dotenv()\n",
    "\n",
    "azure_api_key = os.getenv(\"AZURE_API_KEY\")"
   ]
  },
  {
   "cell_type": "code",
   "execution_count": 16,
   "metadata": {},
   "outputs": [],
   "source": [
    "search_url = \"https://api.bing.microsoft.com/v7.0/search\"\n",
    "search_term = \"Microsoft Bing Search Services\""
   ]
  },
  {
   "cell_type": "code",
   "execution_count": 17,
   "metadata": {},
   "outputs": [
    {
     "ename": "HTTPError",
     "evalue": "401 Client Error: PermissionDenied for url: https://api.bing.microsoft.com/v7.0/search?q=Microsoft+Bing+Search+Services&textDecorations=True&textFormat=HTML",
     "output_type": "error",
     "traceback": [
      "\u001b[31m---------------------------------------------------------------------------\u001b[39m",
      "\u001b[31mHTTPError\u001b[39m                                 Traceback (most recent call last)",
      "\u001b[36mCell\u001b[39m\u001b[36m \u001b[39m\u001b[32mIn[17]\u001b[39m\u001b[32m, line 6\u001b[39m\n\u001b[32m      4\u001b[39m params = {\u001b[33m\"\u001b[39m\u001b[33mq\u001b[39m\u001b[33m\"\u001b[39m: search_term, \u001b[33m\"\u001b[39m\u001b[33mtextDecorations\u001b[39m\u001b[33m\"\u001b[39m: \u001b[38;5;28;01mTrue\u001b[39;00m, \u001b[33m\"\u001b[39m\u001b[33mtextFormat\u001b[39m\u001b[33m\"\u001b[39m: \u001b[33m\"\u001b[39m\u001b[33mHTML\u001b[39m\u001b[33m\"\u001b[39m}\n\u001b[32m      5\u001b[39m response = requests.get(search_url, headers=headers, params=params)\n\u001b[32m----> \u001b[39m\u001b[32m6\u001b[39m \u001b[43mresponse\u001b[49m\u001b[43m.\u001b[49m\u001b[43mraise_for_status\u001b[49m\u001b[43m(\u001b[49m\u001b[43m)\u001b[49m\n\u001b[32m      7\u001b[39m search_results = response.json()\n",
      "\u001b[36mFile \u001b[39m\u001b[32mc:\\Users\\COM-TYUP\\miniforge3\\envs\\chatty2\\Lib\\site-packages\\requests\\models.py:1024\u001b[39m, in \u001b[36mResponse.raise_for_status\u001b[39m\u001b[34m(self)\u001b[39m\n\u001b[32m   1019\u001b[39m     http_error_msg = (\n\u001b[32m   1020\u001b[39m         \u001b[33mf\u001b[39m\u001b[33m\"\u001b[39m\u001b[38;5;132;01m{\u001b[39;00m\u001b[38;5;28mself\u001b[39m.status_code\u001b[38;5;132;01m}\u001b[39;00m\u001b[33m Server Error: \u001b[39m\u001b[38;5;132;01m{\u001b[39;00mreason\u001b[38;5;132;01m}\u001b[39;00m\u001b[33m for url: \u001b[39m\u001b[38;5;132;01m{\u001b[39;00m\u001b[38;5;28mself\u001b[39m.url\u001b[38;5;132;01m}\u001b[39;00m\u001b[33m\"\u001b[39m\n\u001b[32m   1021\u001b[39m     )\n\u001b[32m   1023\u001b[39m \u001b[38;5;28;01mif\u001b[39;00m http_error_msg:\n\u001b[32m-> \u001b[39m\u001b[32m1024\u001b[39m     \u001b[38;5;28;01mraise\u001b[39;00m HTTPError(http_error_msg, response=\u001b[38;5;28mself\u001b[39m)\n",
      "\u001b[31mHTTPError\u001b[39m: 401 Client Error: PermissionDenied for url: https://api.bing.microsoft.com/v7.0/search?q=Microsoft+Bing+Search+Services&textDecorations=True&textFormat=HTML"
     ]
    }
   ],
   "source": [
    "import requests\n",
    "\n",
    "headers = {\"Ocp-Apim-Subscription-Key\": azure_api_key}\n",
    "params = {\"q\": search_term, \"textDecorations\": True, \"textFormat\": \"HTML\"}\n",
    "response = requests.get(search_url, headers=headers, params=params)\n",
    "response.raise_for_status()\n",
    "search_results = response.json()"
   ]
  },
  {
   "cell_type": "code",
   "execution_count": 15,
   "metadata": {},
   "outputs": [
    {
     "name": "stdout",
     "output_type": "stream",
     "text": [
      "검색 중 오류 발생: 404 Client Error: Resource Not Found for url: https://tttttttest.cognitiveservices.azure.com/bing/v7.0/search?q=%EC%B5%9C%EC%8B%A0+%EC%9D%B8%EA%B3%B5%EC%A7%80%EB%8A%A5+%EB%8F%99%ED%96%A5&mkt=ko-KR&count=5&textDecorations=True&textFormat=HTML\n"
     ]
    }
   ],
   "source": [
    "import os\n",
    "from dotenv import load_dotenv\n",
    "import requests\n",
    "import json\n",
    "from IPython.display import HTML\n",
    "\n",
    "# .env 파일에서 환경 변수 로드\n",
    "load_dotenv()\n",
    "\n",
    "class BingWebSearch:\n",
    "    \"\"\"\n",
    "    Microsoft의 공식 예제를 기반으로 한 Bing Web Search API 클래스\n",
    "    참조: https://learn.microsoft.com/en-us/azure/cognitive-services/bing-web-search/quickstarts/python\n",
    "    \"\"\"\n",
    "    def __init__(self):\n",
    "        # API 키 가져오기\n",
    "        self.subscription_key = os.getenv(\"AZURE_API_KEY\")\n",
    "        if not self.subscription_key:\n",
    "            raise ValueError(\"AZURE_API_KEY가 환경 변수에 설정되지 않았습니다.\")\n",
    "        \n",
    "        # 엔드포인트 설정\n",
    "        self.endpoint = os.getenv(\"AZURE_ENDPOINT\", \"https://tttttttest.cognitiveservices.azure.com/bing/v7.0/search\")\n",
    "        \n",
    "        # 기본 헤더 설정\n",
    "        self.headers = {\n",
    "            \"Ocp-Apim-Subscription-Key\": self.subscription_key\n",
    "        }\n",
    "    \n",
    "    def search(self, search_term: str, market: str = \"ko-KR\", count: int = 5) -> dict:\n",
    "        \"\"\"\n",
    "        웹 검색을 수행합니다.\n",
    "        \n",
    "        Args:\n",
    "            search_term (str): 검색어\n",
    "            market (str): 검색 지역 및 언어 설정 (기본값: ko-KR)\n",
    "            count (int): 검색 결과 수 (기본값: 5)\n",
    "            \n",
    "        Returns:\n",
    "            dict: 검색 결과\n",
    "        \"\"\"\n",
    "        try:\n",
    "            # 검색 매개변수 설정\n",
    "            params = {\n",
    "                \"q\": search_term,\n",
    "                \"mkt\": market,\n",
    "                \"count\": count,\n",
    "                \"textDecorations\": True,\n",
    "                \"textFormat\": \"HTML\"\n",
    "            }\n",
    "            \n",
    "            # API 요청\n",
    "            response = requests.get(self.endpoint, headers=self.headers, params=params)\n",
    "            response.raise_for_status()\n",
    "            \n",
    "            return response.json()\n",
    "            \n",
    "        except Exception as e:\n",
    "            print(f\"검색 중 오류 발생: {str(e)}\")\n",
    "            return None\n",
    "    \n",
    "    def display_results(self, results: dict) -> None:\n",
    "        \"\"\"\n",
    "        검색 결과를 표 형식으로 표시합니다.\n",
    "        \n",
    "        Args:\n",
    "            results (dict): search() 메서드에서 반환된 검색 결과\n",
    "        \"\"\"\n",
    "        if not results or \"webPages\" not in results:\n",
    "            print(\"검색 결과가 없습니다.\")\n",
    "            return\n",
    "        \n",
    "        # HTML 테이블 생성\n",
    "        rows = \"\\n\".join([\n",
    "            f\"\"\"<tr>\n",
    "                <td><a href=\"{v['url']}\">{v['name']}</a></td>\n",
    "                <td>{v['snippet']}</td>\n",
    "            </tr>\"\"\"\n",
    "            for v in results[\"webPages\"][\"value\"]\n",
    "        ])\n",
    "        \n",
    "        display(HTML(f\"<table>{rows}</table>\"))\n",
    "\n",
    "# 사용 예시\n",
    "if __name__ == \"__main__\":\n",
    "    try:\n",
    "        # 검색 클라이언트 생성\n",
    "        search_client = BingWebSearch()\n",
    "        \n",
    "        # 검색 실행\n",
    "        search_term = \"최신 인공지능 동향\"\n",
    "        results = search_client.search(search_term)\n",
    "        \n",
    "        if results:\n",
    "            print(f\"\\n=== '{search_term}' 검색 결과 ===\\n\")\n",
    "            search_client.display_results(results)\n",
    "            \n",
    "    except Exception as e:\n",
    "        print(f\"프로그램 실행 중 오류 발생: {str(e)}\")"
   ]
  },
  {
   "cell_type": "code",
   "execution_count": 6,
   "metadata": {},
   "outputs": [],
   "source": [
    "# 클라이언트 초기화\n",
    "client = BingSearchClient()\n",
    "\n",
    "# 검색 수행\n",
    "results = client.search(\"검색어\", count=5, market=\"ko-KR\")\n",
    "\n",
    "# 결과 처리\n",
    "for result in results:\n",
    "    print(f\"제목: {result['title']}\")\n",
    "    print(f\"URL: {result['url']}\")\n",
    "    print(f\"요약: {result['summary']}\")"
   ]
  },
  {
   "cell_type": "code",
   "execution_count": 7,
   "metadata": {},
   "outputs": [
    {
     "name": "stdout",
     "output_type": "stream",
     "text": [
      "{'error': {'code': '404', 'message': 'Resource not found'}}\n"
     ]
    }
   ],
   "source": [
    "print(results)"
   ]
  }
 ],
 "metadata": {
  "kernelspec": {
   "display_name": "chatty2",
   "language": "python",
   "name": "python3"
  },
  "language_info": {
   "codemirror_mode": {
    "name": "ipython",
    "version": 3
   },
   "file_extension": ".py",
   "mimetype": "text/x-python",
   "name": "python",
   "nbconvert_exporter": "python",
   "pygments_lexer": "ipython3",
   "version": "3.11.12"
  }
 },
 "nbformat": 4,
 "nbformat_minor": 2
}
