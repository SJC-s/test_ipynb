{
 "cells": [
  {
   "cell_type": "code",
   "execution_count": 7,
   "metadata": {},
   "outputs": [],
   "source": [
    "\"\"\"\n",
    "Google Custom Search API를 사용한 검색 예제\n",
    "\"\"\"\n",
    "from googleapiclient.discovery import build\n",
    "import json\n",
    "import os\n",
    "\n",
    "class GoogleSearchAPI:\n",
    "    def __init__(self, api_key: str, search_engine_id: str):\n",
    "        \"\"\"\n",
    "        GoogleSearchAPI 클래스 초기화\n",
    "        \n",
    "        Args:\n",
    "            api_key (str): Google API 키\n",
    "            search_engine_id (str): Custom Search Engine ID\n",
    "        \"\"\"\n",
    "        self.api_key = api_key\n",
    "        self.search_engine_id = search_engine_id\n",
    "        \n",
    "    def search(self, query: str, num_results: int = 10) -> dict:\n",
    "        \"\"\"\n",
    "        Google Custom Search API를 사용하여 검색 수행\n",
    "        \n",
    "        Args:\n",
    "            query (str): 검색어\n",
    "            num_results (int): 검색 결과 수 (기본값: 10)\n",
    "            \n",
    "        Returns:\n",
    "            dict: 검색 결과\n",
    "        \"\"\"\n",
    "        try:\n",
    "            # Google Custom Search API 서비스 생성\n",
    "            service = build(\"customsearch\", \"v1\", developerKey=self.api_key)\n",
    "            \n",
    "            # 검색 실행\n",
    "            result = service.cse().list(\n",
    "                q=query,\n",
    "                cx=self.search_engine_id,\n",
    "                num=num_results\n",
    "            ).execute()\n",
    "            \n",
    "            return result\n",
    "            \n",
    "        except Exception as e:\n",
    "            print(f\"검색 중 오류 발생: {str(e)}\")\n",
    "            return None"
   ]
  },
  {
   "cell_type": "code",
   "execution_count": 8,
   "metadata": {},
   "outputs": [],
   "source": [
    "# API 키와 검색 엔진 ID 설정\n",
    "API_KEY = os.getenv(\"GOOGLE_API_KEY\")  # Google Cloud Console에서 발급받은 API 키\n",
    "SEARCH_ENGINE_ID = os.getenv(\"GOOGLE_SEARCH_ENGINE_ID\")  # Custom Search Engine ID\n"
   ]
  },
  {
   "cell_type": "code",
   "execution_count": 1,
   "metadata": {},
   "outputs": [
    {
     "ename": "NameError",
     "evalue": "name 'GoogleSearchAPI' is not defined",
     "output_type": "error",
     "traceback": [
      "\u001b[31m---------------------------------------------------------------------------\u001b[39m",
      "\u001b[31mNameError\u001b[39m                                 Traceback (most recent call last)",
      "\u001b[36mCell\u001b[39m\u001b[36m \u001b[39m\u001b[32mIn[1]\u001b[39m\u001b[32m, line 2\u001b[39m\n\u001b[32m      1\u001b[39m \u001b[38;5;66;03m# GoogleSearchAPI 인스턴스 생성\u001b[39;00m\n\u001b[32m----> \u001b[39m\u001b[32m2\u001b[39m search_api = \u001b[43mGoogleSearchAPI\u001b[49m(API_KEY, SEARCH_ENGINE_ID)\n\u001b[32m      4\u001b[39m \u001b[38;5;66;03m# 검색어 설정\u001b[39;00m\n\u001b[32m      5\u001b[39m search_query = \u001b[33m\"\u001b[39m\u001b[33m파이썬 프로그래밍\u001b[39m\u001b[33m\"\u001b[39m\n",
      "\u001b[31mNameError\u001b[39m: name 'GoogleSearchAPI' is not defined"
     ]
    }
   ],
   "source": [
    "\n",
    "# GoogleSearchAPI 인스턴스 생성\n",
    "search_api = GoogleSearchAPI(API_KEY, SEARCH_ENGINE_ID)\n",
    "\n",
    "# 검색어 설정\n",
    "search_query = \"파이썬 프로그래밍\"\n",
    "\n",
    "# 검색 실행\n",
    "results = search_api.search(search_query)\n"
   ]
  },
  {
   "cell_type": "code",
   "execution_count": null,
   "metadata": {},
   "outputs": [],
   "source": [
    "\n",
    "# 결과 출력\n",
    "if results:\n",
    "    print(f\"검색어 '{search_query}'에 대한 결과:\")\n",
    "    print(\"-\" * 50)\n",
    "    \n",
    "    for item in results.get(\"items\", []):\n",
    "        print(f\"제목: {item['title']}\")\n",
    "        print(f\"링크: {item['link']}\")\n",
    "        print(f\"설명: {item['snippet']}\")\n",
    "        print(\"-\" * 50)\n",
    "        \n",
    "    # 전체 결과를 JSON 파일로 저장\n",
    "    with open(\"search_results.json\", \"w\", encoding=\"utf-8\") as f:\n",
    "        json.dump(results, f, ensure_ascii=False, indent=2)\n",
    "        print(\"전체 검색 결과가 search_results.json 파일에 저장되었습니다.\")"
   ]
  }
 ],
 "metadata": {
  "kernelspec": {
   "display_name": "chatty2",
   "language": "python",
   "name": "python3"
  },
  "language_info": {
   "codemirror_mode": {
    "name": "ipython",
    "version": 3
   },
   "file_extension": ".py",
   "mimetype": "text/x-python",
   "name": "python",
   "nbconvert_exporter": "python",
   "pygments_lexer": "ipython3",
   "version": "3.11.12"
  }
 },
 "nbformat": 4,
 "nbformat_minor": 2
}
