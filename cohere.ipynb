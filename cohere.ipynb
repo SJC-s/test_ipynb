{
 "cells": [
  {
   "cell_type": "markdown",
   "metadata": {},
   "source": [
    "## cohere"
   ]
  },
  {
   "cell_type": "code",
   "execution_count": 2,
   "metadata": {},
   "outputs": [
    {
     "ename": "ApiError",
     "evalue": "status_code: None, body: The client must be instantiated be either passing in token or setting CO_API_KEY",
     "output_type": "error",
     "traceback": [
      "\u001b[31m---------------------------------------------------------------------------\u001b[39m",
      "\u001b[31mApiError\u001b[39m                                  Traceback (most recent call last)",
      "\u001b[36mCell\u001b[39m\u001b[36m \u001b[39m\u001b[32mIn[2]\u001b[39m\u001b[32m, line 3\u001b[39m\n\u001b[32m      1\u001b[39m \u001b[38;5;28;01mimport\u001b[39;00m\u001b[38;5;250m \u001b[39m\u001b[34;01mcohere\u001b[39;00m\n\u001b[32m----> \u001b[39m\u001b[32m3\u001b[39m co = \u001b[43mcohere\u001b[49m\u001b[43m.\u001b[49m\u001b[43mClientV2\u001b[49m\u001b[43m(\u001b[49m\u001b[43m)\u001b[49m\n\u001b[32m      5\u001b[39m query = \u001b[33m\"\u001b[39m\u001b[33mWhat is the capital of the United States?\u001b[39m\u001b[33m\"\u001b[39m\n\u001b[32m      6\u001b[39m docs = [\n\u001b[32m      7\u001b[39m     \u001b[33m\"\u001b[39m\u001b[33mCarson City is the capital city of the American state of Nevada. At the 2010 United States Census, Carson City had a population of 55,274.\u001b[39m\u001b[33m\"\u001b[39m,\n\u001b[32m      8\u001b[39m     \u001b[33m\"\u001b[39m\u001b[33mThe Commonwealth of the Northern Mariana Islands is a group of islands in the Pacific Ocean that are a political division controlled by the United States. Its capital is Saipan.\u001b[39m\u001b[33m\"\u001b[39m,\n\u001b[32m   (...)\u001b[39m\u001b[32m     11\u001b[39m     \u001b[33m\"\u001b[39m\u001b[33mCapital punishment has existed in the United States since before the United States was a country. As of 2017, capital punishment is legal in 30 of the 50 states. The federal government (including the United States military) also uses capital punishment.\u001b[39m\u001b[33m\"\u001b[39m,\n\u001b[32m     12\u001b[39m ]\n",
      "\u001b[36mFile \u001b[39m\u001b[32mc:\\Users\\COM-TYUP\\miniforge3\\envs\\chatty2\\Lib\\site-packages\\cohere\\client_v2.py:24\u001b[39m, in \u001b[36mClientV2.__init__\u001b[39m\u001b[34m(self, api_key, base_url, environment, client_name, timeout, httpx_client, thread_pool_executor, log_warning_experimental_features)\u001b[39m\n\u001b[32m     11\u001b[39m \u001b[38;5;28;01mdef\u001b[39;00m\u001b[38;5;250m \u001b[39m\u001b[34m__init__\u001b[39m(\n\u001b[32m     12\u001b[39m     \u001b[38;5;28mself\u001b[39m,\n\u001b[32m     13\u001b[39m     api_key: typing.Optional[typing.Union[\u001b[38;5;28mstr\u001b[39m,\n\u001b[32m   (...)\u001b[39m\u001b[32m     22\u001b[39m     log_warning_experimental_features: \u001b[38;5;28mbool\u001b[39m = \u001b[38;5;28;01mTrue\u001b[39;00m,\n\u001b[32m     23\u001b[39m ):\n\u001b[32m---> \u001b[39m\u001b[32m24\u001b[39m     \u001b[43mClient\u001b[49m\u001b[43m.\u001b[49m\u001b[34;43m__init__\u001b[39;49m\u001b[43m(\u001b[49m\n\u001b[32m     25\u001b[39m \u001b[43m        \u001b[49m\u001b[38;5;28;43mself\u001b[39;49m\u001b[43m,\u001b[49m\n\u001b[32m     26\u001b[39m \u001b[43m        \u001b[49m\u001b[43mapi_key\u001b[49m\u001b[43m=\u001b[49m\u001b[43mapi_key\u001b[49m\u001b[43m,\u001b[49m\n\u001b[32m     27\u001b[39m \u001b[43m        \u001b[49m\u001b[43mbase_url\u001b[49m\u001b[43m=\u001b[49m\u001b[43mbase_url\u001b[49m\u001b[43m,\u001b[49m\n\u001b[32m     28\u001b[39m \u001b[43m        \u001b[49m\u001b[43menvironment\u001b[49m\u001b[43m=\u001b[49m\u001b[43menvironment\u001b[49m\u001b[43m,\u001b[49m\n\u001b[32m     29\u001b[39m \u001b[43m        \u001b[49m\u001b[43mclient_name\u001b[49m\u001b[43m=\u001b[49m\u001b[43mclient_name\u001b[49m\u001b[43m,\u001b[49m\n\u001b[32m     30\u001b[39m \u001b[43m        \u001b[49m\u001b[43mtimeout\u001b[49m\u001b[43m=\u001b[49m\u001b[43mtimeout\u001b[49m\u001b[43m,\u001b[49m\n\u001b[32m     31\u001b[39m \u001b[43m        \u001b[49m\u001b[43mhttpx_client\u001b[49m\u001b[43m=\u001b[49m\u001b[43mhttpx_client\u001b[49m\u001b[43m,\u001b[49m\n\u001b[32m     32\u001b[39m \u001b[43m        \u001b[49m\u001b[43mthread_pool_executor\u001b[49m\u001b[43m=\u001b[49m\u001b[43mthread_pool_executor\u001b[49m\u001b[43m,\u001b[49m\n\u001b[32m     33\u001b[39m \u001b[43m        \u001b[49m\u001b[43mlog_warning_experimental_features\u001b[49m\u001b[43m=\u001b[49m\u001b[43mlog_warning_experimental_features\u001b[49m\u001b[43m,\u001b[49m\n\u001b[32m     34\u001b[39m \u001b[43m    \u001b[49m\u001b[43m)\u001b[49m\n",
      "\u001b[36mFile \u001b[39m\u001b[32mc:\\Users\\COM-TYUP\\miniforge3\\envs\\chatty2\\Lib\\site-packages\\cohere\\client.py:153\u001b[39m, in \u001b[36mClient.__init__\u001b[39m\u001b[34m(self, api_key, base_url, environment, client_name, timeout, httpx_client, thread_pool_executor, log_warning_experimental_features)\u001b[39m\n\u001b[32m    149\u001b[39m base_url = fix_base_url(base_url)\n\u001b[32m    151\u001b[39m \u001b[38;5;28mself\u001b[39m._executor = thread_pool_executor\n\u001b[32m--> \u001b[39m\u001b[32m153\u001b[39m \u001b[43mBaseCohere\u001b[49m\u001b[43m.\u001b[49m\u001b[34;43m__init__\u001b[39;49m\u001b[43m(\u001b[49m\n\u001b[32m    154\u001b[39m \u001b[43m    \u001b[49m\u001b[38;5;28;43mself\u001b[39;49m\u001b[43m,\u001b[49m\n\u001b[32m    155\u001b[39m \u001b[43m    \u001b[49m\u001b[43mbase_url\u001b[49m\u001b[43m=\u001b[49m\u001b[43mbase_url\u001b[49m\u001b[43m,\u001b[49m\n\u001b[32m    156\u001b[39m \u001b[43m    \u001b[49m\u001b[43menvironment\u001b[49m\u001b[43m=\u001b[49m\u001b[43menvironment\u001b[49m\u001b[43m,\u001b[49m\n\u001b[32m    157\u001b[39m \u001b[43m    \u001b[49m\u001b[43mclient_name\u001b[49m\u001b[43m=\u001b[49m\u001b[43mclient_name\u001b[49m\u001b[43m,\u001b[49m\n\u001b[32m    158\u001b[39m \u001b[43m    \u001b[49m\u001b[43mtoken\u001b[49m\u001b[43m=\u001b[49m\u001b[43mapi_key\u001b[49m\u001b[43m,\u001b[49m\n\u001b[32m    159\u001b[39m \u001b[43m    \u001b[49m\u001b[43mtimeout\u001b[49m\u001b[43m=\u001b[49m\u001b[43mtimeout\u001b[49m\u001b[43m,\u001b[49m\n\u001b[32m    160\u001b[39m \u001b[43m    \u001b[49m\u001b[43mhttpx_client\u001b[49m\u001b[43m=\u001b[49m\u001b[43mhttpx_client\u001b[49m\u001b[43m,\u001b[49m\n\u001b[32m    161\u001b[39m \u001b[43m\u001b[49m\u001b[43m)\u001b[49m\n\u001b[32m    163\u001b[39m validate_args(\u001b[38;5;28mself\u001b[39m, \u001b[33m\"\u001b[39m\u001b[33mchat\u001b[39m\u001b[33m\"\u001b[39m, throw_if_stream_is_true)\n\u001b[32m    164\u001b[39m \u001b[38;5;28;01mif\u001b[39;00m log_warning_experimental_features:\n",
      "\u001b[36mFile \u001b[39m\u001b[32mc:\\Users\\COM-TYUP\\miniforge3\\envs\\chatty2\\Lib\\site-packages\\cohere\\base_client.py:132\u001b[39m, in \u001b[36mBaseCohere.__init__\u001b[39m\u001b[34m(self, base_url, environment, client_name, token, timeout, follow_redirects, httpx_client)\u001b[39m\n\u001b[32m    130\u001b[39m _defaulted_timeout = timeout \u001b[38;5;28;01mif\u001b[39;00m timeout \u001b[38;5;129;01mis\u001b[39;00m \u001b[38;5;129;01mnot\u001b[39;00m \u001b[38;5;28;01mNone\u001b[39;00m \u001b[38;5;28;01melse\u001b[39;00m \u001b[32m300\u001b[39m \u001b[38;5;28;01mif\u001b[39;00m httpx_client \u001b[38;5;129;01mis\u001b[39;00m \u001b[38;5;28;01mNone\u001b[39;00m \u001b[38;5;28;01melse\u001b[39;00m \u001b[38;5;28;01mNone\u001b[39;00m\n\u001b[32m    131\u001b[39m \u001b[38;5;28;01mif\u001b[39;00m token \u001b[38;5;129;01mis\u001b[39;00m \u001b[38;5;28;01mNone\u001b[39;00m:\n\u001b[32m--> \u001b[39m\u001b[32m132\u001b[39m     \u001b[38;5;28;01mraise\u001b[39;00m ApiError(body=\u001b[33m\"\u001b[39m\u001b[33mThe client must be instantiated be either passing in token or setting CO_API_KEY\u001b[39m\u001b[33m\"\u001b[39m)\n\u001b[32m    133\u001b[39m \u001b[38;5;28mself\u001b[39m._client_wrapper = SyncClientWrapper(\n\u001b[32m    134\u001b[39m     base_url=_get_base_url(base_url=base_url, environment=environment),\n\u001b[32m    135\u001b[39m     client_name=client_name,\n\u001b[32m   (...)\u001b[39m\u001b[32m    142\u001b[39m     timeout=_defaulted_timeout,\n\u001b[32m    143\u001b[39m )\n\u001b[32m    144\u001b[39m \u001b[38;5;28mself\u001b[39m.v2 = V2Client(client_wrapper=\u001b[38;5;28mself\u001b[39m._client_wrapper)\n",
      "\u001b[31mApiError\u001b[39m: status_code: None, body: The client must be instantiated be either passing in token or setting CO_API_KEY"
     ]
    }
   ],
   "source": [
    "import cohere\n",
    "\n",
    "co = cohere.ClientV2()\n",
    "\n",
    "query = \"What is the capital of the United States?\"\n",
    "docs = [\n",
    "    \"Carson City is the capital city of the American state of Nevada. At the 2010 United States Census, Carson City had a population of 55,274.\",\n",
    "    \"The Commonwealth of the Northern Mariana Islands is a group of islands in the Pacific Ocean that are a political division controlled by the United States. Its capital is Saipan.\",\n",
    "    \"Charlotte Amalie is the capital and largest city of the United States Virgin Islands. It has about 20,000 people. The city is on the island of Saint Thomas.\",\n",
    "    \"Washington, D.C. (also known as simply Washington or D.C., and officially as the District of Columbia) is the capital of the United States. It is a federal district. The President of the USA and many major national government offices are in the territory. This makes it the political center of the United States of America.\",\n",
    "    \"Capital punishment has existed in the United States since before the United States was a country. As of 2017, capital punishment is legal in 30 of the 50 states. The federal government (including the United States military) also uses capital punishment.\",\n",
    "]\n",
    "\n",
    "results = co.rerank(\n",
    "    model=\"rerank-v3.5\", query=query, documents=docs, top_n=5\n",
    ")\n"
   ]
  }
 ],
 "metadata": {
  "kernelspec": {
   "display_name": "chatty2",
   "language": "python",
   "name": "python3"
  },
  "language_info": {
   "codemirror_mode": {
    "name": "ipython",
    "version": 3
   },
   "file_extension": ".py",
   "mimetype": "text/x-python",
   "name": "python",
   "nbconvert_exporter": "python",
   "pygments_lexer": "ipython3",
   "version": "3.11.12"
  }
 },
 "nbformat": 4,
 "nbformat_minor": 2
}
