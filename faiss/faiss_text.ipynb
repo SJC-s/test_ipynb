{
 "cells": [
  {
   "cell_type": "code",
   "execution_count": 3,
   "metadata": {},
   "outputs": [
    {
     "name": "stderr",
     "output_type": "stream",
     "text": [
      "c:\\Users\\COM-TYUP\\miniforge3\\envs\\chatty2\\Lib\\site-packages\\tqdm\\auto.py:21: TqdmWarning: IProgress not found. Please update jupyter and ipywidgets. See https://ipywidgets.readthedocs.io/en/stable/user_install.html\n",
      "  from .autonotebook import tqdm as notebook_tqdm\n"
     ]
    },
    {
     "name": "stdout",
     "output_type": "stream",
     "text": [
      "임베딩 모델을 로드합니다...\n",
      "데이터를 벡터로 변환합니다...\n",
      "데이터베이스 벡터 수: 8\n",
      "벡터 차원: 768\n"
     ]
    }
   ],
   "source": [
    "import numpy as np\n",
    "from sentence_transformers import SentenceTransformer\n",
    "\n",
    "# 1. 한국어 문장 임베딩 모델 로드\n",
    "print(\"임베딩 모델을 로드합니다...\")\n",
    "model = SentenceTransformer('jhgan/ko-sroberta-multitask')\n",
    "\n",
    "# 2. 검색 대상이 될 샘플 문장 데이터\n",
    "data = [\n",
    "    \"오늘 날씨가 정말 좋네요.\",\n",
    "    \"서울의 맛집을 추천해주세요.\",\n",
    "    \"파이썬으로 웹 스크래핑하는 방법이 궁금합니다.\",\n",
    "    \"내일 비가 올 확률은 얼마나 되나요?\",\n",
    "    \"인공지능 기술의 미래 전망에 대해 알려주세요.\",\n",
    "    \"가장 인기 있는 프로그래밍 언어는 무엇인가요?\",\n",
    "    \"최신 스마트폰 모델 비교 정보를 찾고 있습니다.\",\n",
    "    \"근처에 있는 괜찮은 카페를 알려주세요.\"\n",
    "]\n",
    "\n",
    "# 3. 문장들을 벡터로 변환 (임베딩)\n",
    "print(\"데이터를 벡터로 변환합니다...\")\n",
    "db_vectors = model.encode(data)\n",
    "\n",
    "# 벡터의 차원과 데이터 개수 확인\n",
    "num_vectors, d = db_vectors.shape\n",
    "print(f\"데이터베이스 벡터 수: {num_vectors}\")\n",
    "print(f\"벡터 차원: {d}\")\n",
    "# 출력 예시:\n",
    "# 데이터베이스 벡터 수: 8\n",
    "# 벡터 차원: 768"
   ]
  },
  {
   "cell_type": "code",
   "execution_count": 4,
   "metadata": {},
   "outputs": [
    {
     "name": "stdout",
     "output_type": "stream",
     "text": [
      "Faiss 인덱스를 학습시킵니다...\n",
      "학습된 인덱스에 벡터를 추가합니다...\n",
      "인덱스에 추가된 총 벡터 수: 8\n"
     ]
    }
   ],
   "source": [
    "import faiss\n",
    "\n",
    "# 벡터 차원\n",
    "d = db_vectors.shape[1]\n",
    "\n",
    "# IndexIVFFlat을 위한 설정\n",
    "nlist = 5  # 벡터 공간을 몇 개의 셀로 나눌지 결정 (데이터 크기에 따라 조정)\n",
    "quantizer = faiss.IndexFlatL2(d)  # L2 거리(유클리드 거리) 기반의 기본 인덱스\n",
    "index = faiss.IndexIVFFlat(quantizer, d, nlist, faiss.METRIC_L2)\n",
    "\n",
    "# 3. 인덱스 학습 (Training)\n",
    "# 이 과정에서 Faiss는 벡터 공간의 구조를 학습하여 클러스터(셀)의 중심점을 찾습니다.\n",
    "print(\"Faiss 인덱스를 학습시킵니다...\")\n",
    "assert not index.is_trained\n",
    "index.train(db_vectors)\n",
    "assert index.is_trained\n",
    "\n",
    "# 4. 학습된 인덱스에 벡터 추가\n",
    "print(\"학습된 인덱스에 벡터를 추가합니다...\")\n",
    "index.add(db_vectors)\n",
    "\n",
    "print(f\"인덱스에 추가된 총 벡터 수: {index.ntotal}\")"
   ]
  },
  {
   "cell_type": "code",
   "execution_count": 5,
   "metadata": {},
   "outputs": [
    {
     "ename": "",
     "evalue": "",
     "output_type": "error",
     "traceback": [
      "\u001b[1;31mThe Kernel crashed while executing code in the current cell or a previous cell. \n",
      "\u001b[1;31mPlease review the code in the cell(s) to identify a possible cause of the failure. \n",
      "\u001b[1;31mClick <a href='https://aka.ms/vscodeJupyterKernelCrash'>here</a> for more info. \n",
      "\u001b[1;31mView Jupyter <a href='command:jupyter.viewOutput'>log</a> for further details."
     ]
    }
   ],
   "source": [
    "# 5. 검색 실행\n",
    "\n",
    "# 검색할 쿼리 문장\n",
    "query_text = \"가장 좋은 프로그래밍 언어는?\"\n",
    "\n",
    "# 쿼리 문장을 벡터로 변환\n",
    "query_vector = model.encode([query_text])\n",
    "\n",
    "# 검색할 이웃의 수 (가장 유사한 3개)\n",
    "k = 3\n",
    "\n",
    "print(f\"\\n''{query_text}''와(과) 유사한 문장을 검색합니다...\")\n",
    "\n",
    "# 검색 수행\n",
    "# D: 쿼리 벡터와 검색된 벡터들 사이의 거리(distance) 배열\n",
    "# I: 검색된 벡터들의 인덱스(index) 배열\n",
    "D, I = index.search(query_vector, k)\n",
    "\n",
    "# 6. 결과 출력\n",
    "print(\"--- 검색 결과 ---\")\n",
    "for i, dist in zip(I[0], D[0]):\n",
    "    print(f\"인덱스: {i}, 유사도(거리): {dist:.4f}, 문장: {data[i]}\")\n",
    "\n",
    "# 예상 출력:\n",
    "# --- 검색 결과 ---\n",
    "# 인덱스: 5, 유사도(거리): 0.3456, 문장: 가장 인기 있는 프로그래밍 언어는 무엇인가요?\n",
    "# 인덱스: 2, 유사도(거리): 0.8765, 문장: 파이썬으로 웹 스크래핑하는 방법이 궁금합니다.\n",
    "# 인덱스: 4, 유사도(거리): 1.1234, 문장: 인공지능 기술의 미래 전망에 대해 알려주세요."
   ]
  }
 ],
 "metadata": {
  "kernelspec": {
   "display_name": "chatty2",
   "language": "python",
   "name": "python3"
  },
  "language_info": {
   "codemirror_mode": {
    "name": "ipython",
    "version": 3
   },
   "file_extension": ".py",
   "mimetype": "text/x-python",
   "name": "python",
   "nbconvert_exporter": "python",
   "pygments_lexer": "ipython3",
   "version": "3.11.12"
  }
 },
 "nbformat": 4,
 "nbformat_minor": 2
}
