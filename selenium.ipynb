{
 "cells": [
  {
   "cell_type": "code",
   "execution_count": 5,
   "metadata": {},
   "outputs": [],
   "source": [
    "from selenium import webdriver\n",
    "from selenium.webdriver.chrome.service import Service\n",
    "from selenium.webdriver.common.by import By\n",
    "import chromedriver_autoinstaller\n",
    "\n",
    "from selenium.webdriver.chrome.options import Options\n",
    "\n",
    "# Chrome 옵션 설정 (백그라운드 실행)\n",
    "chrome_options = Options()\n",
    "chrome_options.add_argument(\"--headless\")  # 백그라운드에서 실행\n",
    "chrome_options.add_argument(\"--no-sandbox\")\n",
    "chrome_options.add_argument(\"--disable-dev-shm-usage\")\n",
    "\n",
    "# Chrome 드라이버 경로 설정\n",
    "# Windows용 Chrome 경로 (기본 설치 경로)\n",
    "CHROME_PATH = r\"C:\\Program Files\\Google\\Chrome\\Application\\chrome.exe\"\n",
    "service = Service(CHROME_PATH)  # chromedriver의 경로를 지정하세요\n",
    "\n",
    "# 크롬 드라이버 설치 및 WebDriver 초기화\n",
    "driver = webdriver.Chrome(\n",
    "    service=Service(chromedriver_autoinstaller.install()),\n",
    "    options=chrome_options\n",
    ")\n",
    "\n"
   ]
  },
  {
   "cell_type": "code",
   "execution_count": null,
   "metadata": {},
   "outputs": [
    {
     "name": "stderr",
     "output_type": "stream",
     "text": [
      "WARNING:urllib3.connectionpool:Retrying (Retry(total=2, connect=None, read=None, redirect=None, status=None)) after connection broken by 'NewConnectionError('<urllib3.connection.HTTPConnection object at 0x000002D365E094D0>: Failed to establish a new connection: [WinError 10061] 대상 컴퓨터에서 연결을 거부했으므로 연결하지 못했습니다')': /session/aa9e5a4a0d4cb61c10ff7308e2a72311\n",
      "WARNING:urllib3.connectionpool:Retrying (Retry(total=1, connect=None, read=None, redirect=None, status=None)) after connection broken by 'NewConnectionError('<urllib3.connection.HTTPConnection object at 0x000002D365E09650>: Failed to establish a new connection: [WinError 10061] 대상 컴퓨터에서 연결을 거부했으므로 연결하지 못했습니다')': /session/aa9e5a4a0d4cb61c10ff7308e2a72311\n",
      "WARNING:urllib3.connectionpool:Retrying (Retry(total=0, connect=None, read=None, redirect=None, status=None)) after connection broken by 'NewConnectionError('<urllib3.connection.HTTPConnection object at 0x000002D365E62010>: Failed to establish a new connection: [WinError 10061] 대상 컴퓨터에서 연결을 거부했으므로 연결하지 못했습니다')': /session/aa9e5a4a0d4cb61c10ff7308e2a72311\n"
     ]
    }
   ],
   "source": [
    "try:\n",
    "    # chatty.kr 웹사이트 열기\n",
    "    driver.get('https://blog.naver.com/mslink/130175012196')\n",
    "\n",
    "    # 페이지의 HTML 정보 가져오기\n",
    "    html_content = driver.page_source\n",
    "    print(html_content)  # HTML 정보를 출력하거나 필요한 처리를 수행\n",
    "\n",
    "finally:\n",
    "    # 드라이버 종료\n",
    "    driver.quit()"
   ]
  }
 ],
 "metadata": {
  "kernelspec": {
   "display_name": "wsearch",
   "language": "python",
   "name": "python3"
  },
  "language_info": {
   "codemirror_mode": {
    "name": "ipython",
    "version": 3
   },
   "file_extension": ".py",
   "mimetype": "text/x-python",
   "name": "python",
   "nbconvert_exporter": "python",
   "pygments_lexer": "ipython3",
   "version": "3.11.12"
  }
 },
 "nbformat": 4,
 "nbformat_minor": 2
}
