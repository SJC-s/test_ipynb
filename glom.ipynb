{
 "cells": [
  {
   "cell_type": "code",
   "execution_count": 1,
   "metadata": {},
   "outputs": [],
   "source": [
    "from glom import glom"
   ]
  },
  {
   "cell_type": "code",
   "execution_count": 3,
   "metadata": {},
   "outputs": [],
   "source": [
    "data = {'a': {'b': {'c': 'd'}}}"
   ]
  },
  {
   "cell_type": "code",
   "execution_count": 4,
   "metadata": {},
   "outputs": [
    {
     "name": "stdout",
     "output_type": "stream",
     "text": [
      "d\n",
      "d\n"
     ]
    }
   ],
   "source": [
    "# 기존방식으로 출력\n",
    "print(data['a']['b']['c'])\n",
    "\n",
    "# glom 으로 출력\n",
    "print(glom(data, 'a.b.c' , default = None))\n",
    "\n"
   ]
  },
  {
   "cell_type": "code",
   "execution_count": 5,
   "metadata": {},
   "outputs": [
    {
     "name": "stdout",
     "output_type": "stream",
     "text": [
      "KeyError 발생\n"
     ]
    }
   ],
   "source": [
    "# glom 의 장점은 해당 키값이 없을 때 오류가 아니라 default 값을 출력하기에 관리 하기 매우 좋다\n",
    "\n",
    "try:\n",
    "    print(data['a']['b']['d'])\n",
    "except KeyError:\n",
    "    print(\"KeyError 발생\")\n"
   ]
  },
  {
   "cell_type": "code",
   "execution_count": 6,
   "metadata": {},
   "outputs": [
    {
     "name": "stdout",
     "output_type": "stream",
     "text": [
      "None\n"
     ]
    }
   ],
   "source": [
    "try:\n",
    "    print(glom(data, 'a.b.d' , default = None))\n",
    "except KeyError:\n",
    "    print(\"KeyError 발생\")"
   ]
  },
  {
   "cell_type": "markdown",
   "metadata": {},
   "source": [
    "key error 없이 내 마음대로 값을 뽑아내기 매우 편함"
   ]
  },
  {
   "cell_type": "markdown",
   "metadata": {},
   "source": [
    "## Going Beyond\n",
    "\n",
    "output = glom(data, spec)\n",
    "\n",
    "data 는 분석할 데이터\n",
    "spec 은 검색한 결과를 우리가 원하는 형식으로 변경하여 만들 수 있다."
   ]
  },
  {
   "cell_type": "code",
   "execution_count": 7,
   "metadata": {},
   "outputs": [
    {
     "name": "stdout",
     "output_type": "stream",
     "text": [
      "jupiter\n"
     ]
    }
   ],
   "source": [
    "target = {\n",
    "    'galaxy': {\n",
    "        'system': {\n",
    "            'planet': 'jupiter'\n",
    "        }\n",
    "    }\n",
    "}\n",
    "\n",
    "spec = \"galaxy.system.planet\"\n",
    "\n",
    "print(glom(target, spec))\n"
   ]
  },
  {
   "cell_type": "markdown",
   "metadata": {},
   "source": [
    "리스트 구조를 가지고 있는 키 값 하위에 동일값의 키값이 있다면\n",
    "\n",
    "\n",
    "튜플 형태로 spec 을 구성하면 리스트로 값을 꺼낼수 있다\n",
    "\n",
    "\n",
    "(\"공통 키값\" , ['리스트내 공통 키'])\n",
    "\n",
    "(\"path\" , ['subpath'])"
   ]
  },
  {
   "cell_type": "code",
   "execution_count": 8,
   "metadata": {},
   "outputs": [
    {
     "name": "stdout",
     "output_type": "stream",
     "text": [
      "['earth', 'jupiter']\n"
     ]
    }
   ],
   "source": [
    "# spec 을 내가 원하는 형식으로 재구조화 가능\n",
    "target = {\n",
    "    'system': {\n",
    "        'planets': [\n",
    "            {'name': 'earth'},\n",
    "            {'name': 'jupiter'}\n",
    "        ]\n",
    "    }\n",
    "}\n",
    "\n",
    "print(glom(target, ('system.planets', ['name'])))\n"
   ]
  },
  {
   "cell_type": "code",
   "execution_count": 9,
   "metadata": {},
   "outputs": [
    {
     "name": "stdout",
     "output_type": "stream",
     "text": [
      "{'name': ['earth', 'jupiter'], 'moons': [1, 69]}\n"
     ]
    }
   ],
   "source": [
    "target = {\n",
    "    'system': {\n",
    "        'planets': [\n",
    "            {'name': 'earth', 'moons': 1},\n",
    "            {'name': 'jupiter', 'moons': 69}\n",
    "        ]\n",
    "    }\n",
    "}\n",
    "\n",
    "spec = {\n",
    "    \"name\" : (\"system.planets\", [\"name\"]),\n",
    "    \"moons\" : (\"system.planets\", [\"moons\"])\n",
    "}\n",
    "\n",
    "print(glom(target, spec))"
   ]
  },
  {
   "cell_type": "code",
   "execution_count": 12,
   "metadata": {},
   "outputs": [
    {
     "name": "stdout",
     "output_type": "stream",
     "text": [
      "{'planet_name': ['earth', 'jupiter'], 'moon_name': [['luna'], ['io', 'europa']]}\n"
     ]
    }
   ],
   "source": [
    "target = {\n",
    "    'system': {\n",
    "        'planets': [\n",
    "            {\n",
    "                'name': 'earth',\n",
    "                'moons': [\n",
    "                    {'name': 'luna'}\n",
    "                ]\n",
    "            },\n",
    "            {\n",
    "                'name': 'jupiter',\n",
    "                'moons': [\n",
    "                    {'name': 'io'},\n",
    "                    {'name': 'europa'}\n",
    "                ]\n",
    "            }\n",
    "        ]\n",
    "    }\n",
    "}\n",
    "\n",
    "spec = {\n",
    "    \"planet_name\" : ('system.planets', ['name']),\n",
    "    \"moon_name\" : ('system.planets', [('moons', ['name'])])\n",
    "}\n",
    "\n",
    "print(glom(target,spec))"
   ]
  },
  {
   "cell_type": "code",
   "execution_count": null,
   "metadata": {},
   "outputs": [],
   "source": [
    "# Coalesce 는 여러개의 키값을 넣어서 찾고 싶은 키값을 찾을 수 있다."
   ]
  },
  {
   "cell_type": "markdown",
   "metadata": {},
   "source": [
    "# Coalesce 는 여러개의 키값을 넣어서 찾고 싶은 키값을 찾을 수 있다.\n",
    "\n",
    "즉 없으면 그냥 넘어갈 수 있는것이다.\n",
    "\n",
    "동일한 값에 대해서 키 값 업데이트가 이루어졌을 때 사용하면 좋을 듯"
   ]
  },
  {
   "cell_type": "code",
   "execution_count": 13,
   "metadata": {},
   "outputs": [
    {
     "name": "stdout",
     "output_type": "stream",
     "text": [
      "{'planets': ['earth', 'jupiter'], 'moons': [1, 69]}\n"
     ]
    }
   ],
   "source": [
    "from glom import Coalesce\n",
    "\n",
    "target = {\n",
    "    'system': {\n",
    "        'planets': [\n",
    "            {'name': 'earth', 'moons': 1},\n",
    "            {'name': 'jupiter', 'moons': 69}\n",
    "        ]\n",
    "    }\n",
    "}\n",
    "\n",
    "spec = {\n",
    "    \"planets\" : (Coalesce('system.planets', 'system.dwarf_planets'), ['name']),\n",
    "    \"moons\" : (Coalesce('system.planets', 'system.dwarf_planets'), ['moons'])\n",
    "}\n",
    "\n",
    "print(glom(target, spec))"
   ]
  },
  {
   "cell_type": "code",
   "execution_count": 14,
   "metadata": {},
   "outputs": [
    {
     "name": "stdout",
     "output_type": "stream",
     "text": [
      "{'planets': ['pluto', 'ceres'], 'moons': [5, 0]}\n"
     ]
    }
   ],
   "source": [
    "target = {\n",
    "    'system': {\n",
    "        'dwarf_planets': [\n",
    "            {'name': 'pluto', 'moons': 5},\n",
    "            {'name': 'ceres', 'moons': 0}\n",
    "        ]\n",
    "    }\n",
    "}\n",
    "\n",
    "print(glom(target, spec))"
   ]
  },
  {
   "cell_type": "code",
   "execution_count": 16,
   "metadata": {},
   "outputs": [
    {
     "name": "stdout",
     "output_type": "stream",
     "text": [
      "{'moons': {'pluto': 6, 'venus': 0, 'earth': 1}}\n"
     ]
    }
   ],
   "source": [
    "from glom import glom, T, Merge, Iter, Coalesce\n",
    "\n",
    "target = {\n",
    "   \"pluto\": {\"moons\": 6, \"population\": None},\n",
    "   \"venus\": {\"population\": {\"aliens\": 5}},\n",
    "   \"earth\": {\"moons\": 1, \"population\": {\"humans\": 7700000000, \"aliens\": 1}},\n",
    "}\n",
    "\n",
    "spec = {\n",
    "    \"moons\": (\n",
    "         T.items(),\n",
    "         Iter({T[0]: (T[1], Coalesce(\"moons\", default=0))}),\n",
    "         Merge(),\n",
    "    )\n",
    "}\n",
    "\n",
    "print(glom(target, spec))"
   ]
  },
  {
   "cell_type": "markdown",
   "metadata": {},
   "source": [
    "Python 기본 함수를 사용가능"
   ]
  },
  {
   "cell_type": "code",
   "execution_count": 17,
   "metadata": {},
   "outputs": [
    {
     "name": "stdout",
     "output_type": "stream",
     "text": [
      "{'moon_count': 70}\n"
     ]
    }
   ],
   "source": [
    "target = {\n",
    "    'system': {\n",
    "        'planets': [\n",
    "            {'name': 'earth', 'moons': 1},\n",
    "            {'name': 'jupiter', 'moons': 69}\n",
    "        ]\n",
    "    }\n",
    "}\n",
    "\n",
    "print(glom(target, {'moon_count': ('system.planets', ['moons'], sum)}))"
   ]
  }
 ],
 "metadata": {
  "kernelspec": {
   "display_name": "graph-module",
   "language": "python",
   "name": "python3"
  },
  "language_info": {
   "codemirror_mode": {
    "name": "ipython",
    "version": 3
   },
   "file_extension": ".py",
   "mimetype": "text/x-python",
   "name": "python",
   "nbconvert_exporter": "python",
   "pygments_lexer": "ipython3",
   "version": "3.11.11"
  }
 },
 "nbformat": 4,
 "nbformat_minor": 2
}
